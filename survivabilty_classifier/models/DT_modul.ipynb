{
 "cells": [
  {
   "cell_type": "code",
   "execution_count": 1,
   "id": "ea533afb",
   "metadata": {},
   "outputs": [
    {
     "name": "stdout",
     "output_type": "stream",
     "text": [
      "<class 'pandas.core.frame.DataFrame'>\n",
      "RangeIndex: 4024 entries, 0 to 4023\n",
      "Data columns (total 15 columns):\n",
      " #   Column                  Non-Null Count  Dtype \n",
      "---  ------                  --------------  ----- \n",
      " 0   Age                     4024 non-null   int64 \n",
      " 1   Race                    4024 non-null   object\n",
      " 2   Marital Status          4024 non-null   object\n",
      " 3   T Stage                 4024 non-null   object\n",
      " 4   N Stage                 4024 non-null   object\n",
      " 5   6th Stage               4024 non-null   object\n",
      " 6   Grade                   4024 non-null   object\n",
      " 7   A Stage                 4024 non-null   object\n",
      " 8   Tumor Size              4024 non-null   int64 \n",
      " 9   Estrogen Status         4024 non-null   object\n",
      " 10  Progesterone Status     4024 non-null   object\n",
      " 11  Regional Node Examined  4024 non-null   int64 \n",
      " 12  Reginol Node Positive   4024 non-null   int64 \n",
      " 13  Survival Months         4024 non-null   int64 \n",
      " 14  Status                  4024 non-null   object\n",
      "dtypes: int64(5), object(10)\n",
      "memory usage: 471.7+ KB\n",
      "column name: 'Race'\n",
      " number of values: 3'\n",
      " The values are ['Other (American Indian/AK Native, Asian/Pacific Islander)' 'White'\n",
      " 'Black']\n",
      "----------------------------------\n",
      "column name: 'Marital Status'\n",
      " number of values: 5'\n",
      " The values are ['Married (including common law)' 'Divorced' 'Single (never married)'\n",
      " 'Widowed' 'Separated']\n",
      "----------------------------------\n",
      "column name: 'T Stage'\n",
      " number of values: 4'\n",
      " The values are ['T2' 'T1' 'T3' 'T4']\n",
      "----------------------------------\n",
      "column name: 'N Stage'\n",
      " number of values: 3'\n",
      " The values are ['N3' 'N2' 'N1']\n",
      "----------------------------------\n",
      "column name: '6th Stage'\n",
      " number of values: 5'\n",
      " The values are ['IIIC' 'IIIA' 'IIB' 'IIA' 'IIIB']\n",
      "----------------------------------\n",
      "column name: 'Grade'\n",
      " number of values: 4'\n",
      " The values are ['Moderately differentiated; Grade II' 'Poorly differentiated; Grade III'\n",
      " 'Well differentiated; Grade I' 'Undifferentiated; anaplastic; Grade IV']\n",
      "----------------------------------\n",
      "column name: 'A Stage'\n",
      " number of values: 2'\n",
      " The values are ['Regional' 'Distant']\n",
      "----------------------------------\n",
      "column name: 'Estrogen Status'\n",
      " number of values: 2'\n",
      " The values are ['Positive' 'Negative']\n",
      "----------------------------------\n",
      "column name: 'Progesterone Status'\n",
      " number of values: 2'\n",
      " The values are ['Positive' 'Negative']\n",
      "----------------------------------\n",
      "column name: 'Status'\n",
      " number of values: 2'\n",
      " The values are ['Alive' 'Dead']\n",
      "----------------------------------\n",
      "X_train: (1971, 20)\n",
      "y_train: (1971,)\n",
      "-------------------------\n",
      "X_val: (845, 20)\n",
      "y_val: (845,)\n",
      "-------------------------\n",
      "X_test: (1208, 20)\n",
      "y_test: (1208,)\n"
     ]
    }
   ],
   "source": [
    "from preprocessing import *"
   ]
  },
  {
   "cell_type": "markdown",
   "id": "cdc55da1",
   "metadata": {},
   "source": [
    "# DT Model\n",
    "model is a decision tree classifier \n",
    "\n",
    "We try different hyperparameter values to optimize our model"
   ]
  },
  {
   "cell_type": "markdown",
   "id": "c648ddeb",
   "metadata": {},
   "source": [
    "## import DT model"
   ]
  },
  {
   "cell_type": "code",
   "execution_count": 3,
   "id": "0f5d1136",
   "metadata": {},
   "outputs": [],
   "source": [
    "from sklearn.tree import DecisionTreeClassifier #import our model\n",
    "from sklearn.metrics import accuracy_score  #import metrics library to measure accuracy"
   ]
  },
  {
   "cell_type": "markdown",
   "id": "c6d086f2",
   "metadata": {},
   "source": [
    "### choose Best Max_depth"
   ]
  },
  {
   "cell_type": "code",
   "execution_count": 4,
   "id": "166a7adb",
   "metadata": {},
   "outputs": [
    {
     "data": {
      "text/html": [
       "<div>\n",
       "<style scoped>\n",
       "    .dataframe tbody tr th:only-of-type {\n",
       "        vertical-align: middle;\n",
       "    }\n",
       "\n",
       "    .dataframe tbody tr th {\n",
       "        vertical-align: top;\n",
       "    }\n",
       "\n",
       "    .dataframe thead th {\n",
       "        text-align: right;\n",
       "    }\n",
       "</style>\n",
       "<table border=\"1\" class=\"dataframe\">\n",
       "  <thead>\n",
       "    <tr style=\"text-align: right;\">\n",
       "      <th></th>\n",
       "      <th>max_depth</th>\n",
       "      <th>acc_train</th>\n",
       "      <th>acc_val</th>\n",
       "    </tr>\n",
       "  </thead>\n",
       "  <tbody>\n",
       "    <tr>\n",
       "      <th>0</th>\n",
       "      <td>1</td>\n",
       "      <td>0.764563</td>\n",
       "      <td>0.871006</td>\n",
       "    </tr>\n",
       "    <tr>\n",
       "      <th>1</th>\n",
       "      <td>2</td>\n",
       "      <td>0.764563</td>\n",
       "      <td>0.871006</td>\n",
       "    </tr>\n",
       "    <tr>\n",
       "      <th>2</th>\n",
       "      <td>3</td>\n",
       "      <td>0.797735</td>\n",
       "      <td>0.854438</td>\n",
       "    </tr>\n",
       "    <tr>\n",
       "      <th>3</th>\n",
       "      <td>4</td>\n",
       "      <td>0.807443</td>\n",
       "      <td>0.811834</td>\n",
       "    </tr>\n",
       "    <tr>\n",
       "      <th>4</th>\n",
       "      <td>5</td>\n",
       "      <td>0.830097</td>\n",
       "      <td>0.728994</td>\n",
       "    </tr>\n",
       "    <tr>\n",
       "      <th>5</th>\n",
       "      <td>6</td>\n",
       "      <td>0.853560</td>\n",
       "      <td>0.788166</td>\n",
       "    </tr>\n",
       "    <tr>\n",
       "      <th>6</th>\n",
       "      <td>7</td>\n",
       "      <td>0.872977</td>\n",
       "      <td>0.760947</td>\n",
       "    </tr>\n",
       "    <tr>\n",
       "      <th>7</th>\n",
       "      <td>8</td>\n",
       "      <td>0.902913</td>\n",
       "      <td>0.743195</td>\n",
       "    </tr>\n",
       "    <tr>\n",
       "      <th>8</th>\n",
       "      <td>9</td>\n",
       "      <td>0.928803</td>\n",
       "      <td>0.744379</td>\n",
       "    </tr>\n",
       "    <tr>\n",
       "      <th>9</th>\n",
       "      <td>10</td>\n",
       "      <td>0.953074</td>\n",
       "      <td>0.742012</td>\n",
       "    </tr>\n",
       "    <tr>\n",
       "      <th>10</th>\n",
       "      <td>11</td>\n",
       "      <td>0.967638</td>\n",
       "      <td>0.753846</td>\n",
       "    </tr>\n",
       "    <tr>\n",
       "      <th>11</th>\n",
       "      <td>12</td>\n",
       "      <td>0.988673</td>\n",
       "      <td>0.726627</td>\n",
       "    </tr>\n",
       "    <tr>\n",
       "      <th>12</th>\n",
       "      <td>13</td>\n",
       "      <td>0.995955</td>\n",
       "      <td>0.740828</td>\n",
       "    </tr>\n",
       "    <tr>\n",
       "      <th>13</th>\n",
       "      <td>14</td>\n",
       "      <td>0.999191</td>\n",
       "      <td>0.749112</td>\n",
       "    </tr>\n",
       "    <tr>\n",
       "      <th>14</th>\n",
       "      <td>15</td>\n",
       "      <td>0.999191</td>\n",
       "      <td>0.750296</td>\n",
       "    </tr>\n",
       "    <tr>\n",
       "      <th>15</th>\n",
       "      <td>16</td>\n",
       "      <td>1.000000</td>\n",
       "      <td>0.733728</td>\n",
       "    </tr>\n",
       "    <tr>\n",
       "      <th>16</th>\n",
       "      <td>17</td>\n",
       "      <td>1.000000</td>\n",
       "      <td>0.733728</td>\n",
       "    </tr>\n",
       "    <tr>\n",
       "      <th>17</th>\n",
       "      <td>18</td>\n",
       "      <td>1.000000</td>\n",
       "      <td>0.733728</td>\n",
       "    </tr>\n",
       "    <tr>\n",
       "      <th>18</th>\n",
       "      <td>19</td>\n",
       "      <td>1.000000</td>\n",
       "      <td>0.733728</td>\n",
       "    </tr>\n",
       "    <tr>\n",
       "      <th>19</th>\n",
       "      <td>20</td>\n",
       "      <td>1.000000</td>\n",
       "      <td>0.733728</td>\n",
       "    </tr>\n",
       "  </tbody>\n",
       "</table>\n",
       "</div>"
      ],
      "text/plain": [
       "    max_depth  acc_train   acc_val\n",
       "0           1   0.764563  0.871006\n",
       "1           2   0.764563  0.871006\n",
       "2           3   0.797735  0.854438\n",
       "3           4   0.807443  0.811834\n",
       "4           5   0.830097  0.728994\n",
       "5           6   0.853560  0.788166\n",
       "6           7   0.872977  0.760947\n",
       "7           8   0.902913  0.743195\n",
       "8           9   0.928803  0.744379\n",
       "9          10   0.953074  0.742012\n",
       "10         11   0.967638  0.753846\n",
       "11         12   0.988673  0.726627\n",
       "12         13   0.995955  0.740828\n",
       "13         14   0.999191  0.749112\n",
       "14         15   0.999191  0.750296\n",
       "15         16   1.000000  0.733728\n",
       "16         17   1.000000  0.733728\n",
       "17         18   1.000000  0.733728\n",
       "18         19   1.000000  0.733728\n",
       "19         20   1.000000  0.733728"
      ]
     },
     "execution_count": 4,
     "metadata": {},
     "output_type": "execute_result"
    }
   ],
   "source": [
    "#define a list to use its value as depth from 1 to 20\n",
    "max_depth_values = list(range(1, 21))\n",
    "#define a list to store accuracy for training values\n",
    "accuracy_for_train_values = []\n",
    "#define a list to store accuracy for validation values\n",
    "accuracy_for_validation_values = []\n",
    "\n",
    "for max_depth in max_depth_values: #loop on all max depth values\n",
    "    #get object from model and set max_depth every loop with one value from list 1:20\n",
    "    model = DecisionTreeClassifier(max_depth=max_depth, random_state=0)\n",
    "    #fitting model --training process--\n",
    "    model.fit(X_train_balanced, y_train_balanced)\n",
    "    #predict output on training data --test process--\n",
    "    y_predict_train = model.predict(X_train_balanced)\n",
    "    #predict output on validation data\n",
    "    y_predidect_validation = model.predict(X_val)\n",
    "    #get accuracy for training data\n",
    "    accuracy_train = accuracy_score(y_train_balanced, y_predict_train)\n",
    "    #get accuracy for validation data\n",
    "    accuracy_validation = accuracy_score(y_val, y_predidect_validation)\n",
    "    accuracy_for_train_values.append(accuracy_train)\n",
    "    accuracy_for_validation_values.append(accuracy_validation)\n",
    "    \n",
    "results = pd.DataFrame({\n",
    "    'max_depth': max_depth_values,\n",
    "    'acc_train': accuracy_for_train_values,\n",
    "    'acc_val': accuracy_for_validation_values,\n",
    "})\n",
    "\n",
    "results"
   ]
  },
  {
   "cell_type": "code",
   "execution_count": 5,
   "id": "e33aaf3d",
   "metadata": {},
   "outputs": [
    {
     "data": {
      "image/png": "[encoded data removed]",
      "text/plain": [
       "<Figure size 720x432 with 1 Axes>"
      ]
     },
     "metadata": {
      "needs_background": "light"
     },
     "output_type": "display_data"
    }
   ],
   "source": [
    "import numpy as np\n",
    "import matplotlib.pyplot as plt\n",
    "%matplotlib inline\n",
    "\n",
    "results.plot(x='max_depth', y=['acc_train', 'acc_val'], figsize=(10, 6))\n",
    "plt.xticks(np.arange(1, 21))\n",
    "plt.grid(axis='both')\n",
    "plt.show()"
   ]
  },
  {
   "cell_type": "markdown",
   "id": "5f3fd86e",
   "metadata": {},
   "source": [
    "Best max_depth is `4`"
   ]
  },
  {
   "cell_type": "markdown",
   "id": "ca37e821",
   "metadata": {},
   "source": [
    "### choose Best criterion gini or entropy"
   ]
  },
  {
   "cell_type": "code",
   "execution_count": 6,
   "id": "371721b3",
   "metadata": {},
   "outputs": [
    {
     "data": {
      "text/html": [
       "<div>\n",
       "<style scoped>\n",
       "    .dataframe tbody tr th:only-of-type {\n",
       "        vertical-align: middle;\n",
       "    }\n",
       "\n",
       "    .dataframe tbody tr th {\n",
       "        vertical-align: top;\n",
       "    }\n",
       "\n",
       "    .dataframe thead th {\n",
       "        text-align: right;\n",
       "    }\n",
       "</style>\n",
       "<table border=\"1\" class=\"dataframe\">\n",
       "  <thead>\n",
       "    <tr style=\"text-align: right;\">\n",
       "      <th></th>\n",
       "      <th>criterion_values</th>\n",
       "      <th>acc_train</th>\n",
       "      <th>acc_val</th>\n",
       "    </tr>\n",
       "  </thead>\n",
       "  <tbody>\n",
       "    <tr>\n",
       "      <th>0</th>\n",
       "      <td>gini</td>\n",
       "      <td>0.807443</td>\n",
       "      <td>0.811834</td>\n",
       "    </tr>\n",
       "    <tr>\n",
       "      <th>1</th>\n",
       "      <td>entropy</td>\n",
       "      <td>0.794498</td>\n",
       "      <td>0.856805</td>\n",
       "    </tr>\n",
       "  </tbody>\n",
       "</table>\n",
       "</div>"
      ],
      "text/plain": [
       "  criterion_values  acc_train   acc_val\n",
       "0             gini   0.807443  0.811834\n",
       "1          entropy   0.794498  0.856805"
      ]
     },
     "execution_count": 6,
     "metadata": {},
     "output_type": "execute_result"
    }
   ],
   "source": [
    "#define a list to use its value as criterion \n",
    "criterion_values = ['gini', 'entropy']\n",
    "#define a list to store accuracy for training values\n",
    "accuracy_for_train_values = []\n",
    "#define a list to store accuracy for validation values\n",
    "accuracy_for_validation_values = []\n",
    "\n",
    "for criterion in criterion_values: #loop on all criterion values\n",
    "    #get object from model and set max_depth to 3 and criterion every loop with one value from list criterion_values\n",
    "    model = DecisionTreeClassifier(max_depth=4,criterion=criterion, random_state=0)\n",
    "    #fitting model --training process--\n",
    "    model.fit(X_train_balanced, y_train_balanced)\n",
    "    #predict output on training data --test process--\n",
    "    y_predict_train = model.predict(X_train_balanced)\n",
    "    #predict output on validation data\n",
    "    y_predidect_validation = model.predict(X_val)\n",
    "    #get accuracy for training data\n",
    "    accuracy_train = accuracy_score(y_train_balanced, y_predict_train)\n",
    "    #get accuracy for validation data\n",
    "    accuracy_validation = accuracy_score(y_val, y_predidect_validation)\n",
    "    accuracy_for_train_values.append(accuracy_train)\n",
    "    accuracy_for_validation_values.append(accuracy_validation)\n",
    "    \n",
    "results = pd.DataFrame({\n",
    "    'criterion_values': criterion_values,\n",
    "    'acc_train': accuracy_for_train_values,\n",
    "    'acc_val': accuracy_for_validation_values,\n",
    "})\n",
    "results"
   ]
  },
  {
   "cell_type": "code",
   "execution_count": 7,
   "id": "f9e997ff",
   "metadata": {},
   "outputs": [
    {
     "data": {
      "image/png": "[encoded data removed]",
      "text/plain": [
       "<Figure size 720x432 with 1 Axes>"
      ]
     },
     "metadata": {
      "needs_background": "light"
     },
     "output_type": "display_data"
    }
   ],
   "source": [
    "results.plot.bar(x='criterion_values', y=['acc_train', 'acc_val'], figsize=(10, 6))\n",
    "plt.grid(axis='y')\n",
    "plt.yticks(np.arange(0.0, 1.1, 0.1))\n",
    "plt.show()"
   ]
  },
  {
   "cell_type": "markdown",
   "id": "d11865f2",
   "metadata": {},
   "source": [
    "Best Criterion value is `gini`"
   ]
  },
  {
   "cell_type": "markdown",
   "id": "fe3cc985",
   "metadata": {},
   "source": [
    "### choose Best splitter best or random"
   ]
  },
  {
   "cell_type": "code",
   "execution_count": 8,
   "id": "22291524",
   "metadata": {},
   "outputs": [
    {
     "data": {
      "text/html": [
       "<div>\n",
       "<style scoped>\n",
       "    .dataframe tbody tr th:only-of-type {\n",
       "        vertical-align: middle;\n",
       "    }\n",
       "\n",
       "    .dataframe tbody tr th {\n",
       "        vertical-align: top;\n",
       "    }\n",
       "\n",
       "    .dataframe thead th {\n",
       "        text-align: right;\n",
       "    }\n",
       "</style>\n",
       "<table border=\"1\" class=\"dataframe\">\n",
       "  <thead>\n",
       "    <tr style=\"text-align: right;\">\n",
       "      <th></th>\n",
       "      <th>splitter_values</th>\n",
       "      <th>acc_train</th>\n",
       "      <th>acc_val</th>\n",
       "    </tr>\n",
       "  </thead>\n",
       "  <tbody>\n",
       "    <tr>\n",
       "      <th>0</th>\n",
       "      <td>best</td>\n",
       "      <td>0.807443</td>\n",
       "      <td>0.811834</td>\n",
       "    </tr>\n",
       "    <tr>\n",
       "      <th>1</th>\n",
       "      <td>random</td>\n",
       "      <td>0.772654</td>\n",
       "      <td>0.846154</td>\n",
       "    </tr>\n",
       "  </tbody>\n",
       "</table>\n",
       "</div>"
      ],
      "text/plain": [
       "  splitter_values  acc_train   acc_val\n",
       "0            best   0.807443  0.811834\n",
       "1          random   0.772654  0.846154"
      ]
     },
     "execution_count": 8,
     "metadata": {},
     "output_type": "execute_result"
    }
   ],
   "source": [
    "#define a list to use its value as splitter \n",
    "splitter_values = ['best', 'random']\n",
    "#define a list to store accuracy for training values\n",
    "accuracy_for_train_values = []\n",
    "#define a list to store accuracy for validation values\n",
    "accuracy_for_validation_values = []\n",
    "\n",
    "for splitter in splitter_values: #loop on all splitter values\n",
    "    #get object from model and set max_depth to 3 and criterion to gini and\n",
    "    ##splitter every loop with one value from list splitter_values\n",
    "    model = DecisionTreeClassifier(max_depth=4,criterion='gini', splitter=splitter, random_state=0)\n",
    "    #fitting model --training process--\n",
    "    model.fit(X_train_balanced, y_train_balanced)\n",
    "    #predict output on training data --test process--\n",
    "    y_predict_train = model.predict(X_train_balanced)\n",
    "    #predict output on validation data\n",
    "    y_predidect_validation = model.predict(X_val)\n",
    "    #get accuracy for training data\n",
    "    accuracy_train = accuracy_score(y_train_balanced, y_predict_train)\n",
    "    #get accuracy for validation data\n",
    "    accuracy_validation = accuracy_score(y_val, y_predidect_validation)\n",
    "    accuracy_for_train_values.append(accuracy_train)\n",
    "    accuracy_for_validation_values.append(accuracy_validation)\n",
    "    \n",
    "results = pd.DataFrame({\n",
    "    'splitter_values': splitter_values,\n",
    "    'acc_train': accuracy_for_train_values,\n",
    "    'acc_val': accuracy_for_validation_values,\n",
    "})\n",
    "results"
   ]
  },
  {
   "cell_type": "code",
   "execution_count": 9,
   "id": "1d901922",
   "metadata": {},
   "outputs": [
    {
     "data": {
      "image/png": "[encoded data removed]",
      "text/plain": [
       "<Figure size 720x432 with 1 Axes>"
      ]
     },
     "metadata": {
      "needs_background": "light"
     },
     "output_type": "display_data"
    }
   ],
   "source": [
    "results.plot.bar(x='splitter_values', y=['acc_train', 'acc_val'], figsize=(10, 6))\n",
    "plt.grid(axis='y')\n",
    "plt.yticks(np.arange(0.0, 1.1, 0.1))\n",
    "plt.show()"
   ]
  },
  {
   "cell_type": "markdown",
   "id": "565adf03",
   "metadata": {},
   "source": [
    "Best splitter value is `best`"
   ]
  },
  {
   "cell_type": "markdown",
   "id": "c8d530bf",
   "metadata": {},
   "source": [
    "# Best model\n",
    "with :\n",
    "max_depth    = `4`, \n",
    "\n",
    "criterion    = `gini`,\n",
    "     \n",
    "splitter     = `best`, \n",
    "\n",
    "random_state = `0`"
   ]
  },
  {
   "cell_type": "code",
   "execution_count": 10,
   "id": "118ae93c",
   "metadata": {},
   "outputs": [],
   "source": [
    "best_model = DecisionTreeClassifier(max_depth=4, criterion='gini', splitter='best', random_state=0)\n",
    "best_model_fit = best_model.fit(X_train_balanced, y_train_balanced)"
   ]
  },
  {
   "cell_type": "markdown",
   "id": "bc866f34",
   "metadata": {},
   "source": [
    "## Test Our Best Model"
   ]
  },
  {
   "cell_type": "code",
   "execution_count": 11,
   "id": "01d95664",
   "metadata": {},
   "outputs": [
    {
     "name": "stdout",
     "output_type": "stream",
     "text": [
      "82 %\n"
     ]
    }
   ],
   "source": [
    "y_pred_test = best_model.predict(X_test)\n",
    "print(round(accuracy_score(y_test, y_pred_test)*100), \"%\")"
   ]
  },
  {
   "cell_type": "code",
   "execution_count": 12,
   "id": "f15e69fc",
   "metadata": {},
   "outputs": [
    {
     "name": "stdout",
     "output_type": "stream",
     "text": [
      "[[122  59]\n",
      " [157 870]]\n"
     ]
    }
   ],
   "source": [
    "from sklearn.metrics import confusion_matrix\n",
    "c_mat = confusion_matrix(y_test, y_pred_test)\n",
    "print(c_mat)"
   ]
  },
  {
   "cell_type": "code",
   "execution_count": 13,
   "id": "aee21439",
   "metadata": {},
   "outputs": [
    {
     "data": {
      "image/png": "[encoded data removed]",
      "text/plain": [
       "<Figure size 432x288 with 1 Axes>"
      ]
     },
     "metadata": {
      "needs_background": "light"
     },
     "output_type": "display_data"
    }
   ],
   "source": [
    "import seaborn as sns\n",
    "sns.heatmap(c_mat.T, annot=True, fmt='d', cbar=False)\n",
    "\n",
    "plt.title('Confusion Matrix for M1')\n",
    "plt.xlabel('true label')\n",
    "plt.ylabel('predicted label')\n",
    "plt.savefig(\"M1_confusion_matrix.png\")\n",
    "plt.show()"
   ]
  },
  {
   "cell_type": "markdown",
   "id": "18bb96d8",
   "metadata": {},
   "source": [
    "# Analysing feature importances\n",
    "\n",
    "Feature importances: Which features are most important in the model's decision?"
   ]
  },
  {
   "cell_type": "code",
   "execution_count": 14,
   "id": "ee8c5b2e",
   "metadata": {},
   "outputs": [
    {
     "data": {
      "image/png": "[encoded data removed]",
      "text/plain": [
       "<Figure size 720x360 with 1 Axes>"
      ]
     },
     "metadata": {
      "needs_background": "light"
     },
     "output_type": "display_data"
    }
   ],
   "source": [
    "plt.figure(figsize=(10, 5))\n",
    "plt.bar(X_train_balanced.columns, best_model.feature_importances_)\n",
    "plt.xticks(rotation=90)\n",
    "plt.show()"
   ]
  },
  {
   "cell_type": "markdown",
   "id": "2e950e5d",
   "metadata": {},
   "source": [
    "# See our Tree"
   ]
  },
  {
   "cell_type": "code",
   "execution_count": 15,
   "id": "446898d8",
   "metadata": {},
   "outputs": [
    {
     "data": {
      "text/plain": [
       "array(['alive', 'dead'], dtype=object)"
      ]
     },
     "execution_count": 15,
     "metadata": {},
     "output_type": "execute_result"
    }
   ],
   "source": [
    "y_classes = y_train_balanced.replace({\n",
    "    0 : \"alive\",\n",
    "    1 : \"dead\"\n",
    "})\n",
    "y_classes.unique()"
   ]
  },
  {
   "cell_type": "code",
   "execution_count": 16,
   "id": "f25c2566",
   "metadata": {},
   "outputs": [
    {
     "data": {
      "text/plain": [
       "Index(['Age', 'T Stage', 'N Stage', '6th Stage', 'Grade', 'A Stage',\n",
       "       'Tumor Size', 'Estrogen Status', 'Progesterone Status',\n",
       "       'Regional Node Examined', 'Reginol Node Positive', 'Survival Months',\n",
       "       'Race_Black',\n",
       "       'Race_Other (American Indian/AK Native, Asian/Pacific Islander)',\n",
       "       'Race_White', 'Marital Status_Divorced',\n",
       "       'Marital Status_Married (including common law)',\n",
       "       'Marital Status_Separated', 'Marital Status_Single (never married)',\n",
       "       'Marital Status_Widowed'],\n",
       "      dtype='object')"
      ]
     },
     "execution_count": 16,
     "metadata": {},
     "output_type": "execute_result"
    }
   ],
   "source": [
    "X_train_balanced.columns"
   ]
  },
  {
   "cell_type": "code",
   "execution_count": 17,
   "id": "b6f9eb90",
   "metadata": {},
   "outputs": [
    {
     "data": {
      "image/png": "[encoded data removed]",
      "text/plain": [
       "<Figure size 1440x360 with 1 Axes>"
      ]
     },
     "metadata": {
      "needs_background": "light"
     },
     "output_type": "display_data"
    }
   ],
   "source": [
    "from sklearn.tree import plot_tree\n",
    "\n",
    "plt.figure(figsize=(20, 5))\n",
    "plot_tree(best_model_fit, feature_names=X_train_balanced.columns, class_names=y_classes.unique())\n",
    "plt.show()"
   ]
  },
  {
   "cell_type": "code",
   "execution_count": 19,
   "id": "909d3ddd",
   "metadata": {},
   "outputs": [],
   "source": [
    "\n"
   ]
  },
  {
   "cell_type": "code",
   "execution_count": null,
   "id": "67319ce5",
   "metadata": {},
   "outputs": [],
   "source": []
  }
 ],
 "metadata": {
  "kernelspec": {
   "display_name": "Python 3",
   "language": "python",
   "name": "python3"
  },
  "language_info": {
   "codemirror_mode": {
    "name": "ipython",
    "version": 3
   },
   "file_extension": ".py",
   "mimetype": "text/x-python",
   "name": "python",
   "nbconvert_exporter": "python",
   "pygments_lexer": "ipython3",
   "version": "3.8.8"
  }
 },
 "nbformat": 4,
 "nbformat_minor": 5
}
